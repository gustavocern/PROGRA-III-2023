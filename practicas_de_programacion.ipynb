{
  "cells": [
    {
      "cell_type": "markdown",
      "metadata": {
        "id": "view-in-github",
        "colab_type": "text"
      },
      "source": [
        "<a href=\"https://colab.research.google.com/github/gustavocern/PROGRA-III-2023/blob/main/practicas_de_programacion.ipynb\" target=\"_parent\"><img src=\"https://colab.research.google.com/assets/colab-badge.svg\" alt=\"Open In Colab\"/></a>"
      ]
    },
    {
      "cell_type": "markdown",
      "metadata": {
        "id": "FYifKIUgx5GD"
      },
      "source": [
        "Primeros Ejercicios."
      ]
    },
    {
      "cell_type": "markdown",
      "metadata": {
        "id": "F40pH3Ih7maL"
      },
      "source": [
        "TIPOS DE DATOS"
      ]
    },
    {
      "cell_type": "code",
      "execution_count": null,
      "metadata": {
        "colab": {
          "base_uri": "https://localhost:8080/"
        },
        "id": "nsaHrLNq7kZ2",
        "outputId": "5f823fb2-e329-4cb4-ac5d-fa46d7dea171"
      },
      "outputs": [
        {
          "name": "stdout",
          "output_type": "stream",
          "text": [
            "Los valores: Num 1:  5  Num 2:  4.9\n",
            "Valor: Num 1:  5\n"
          ]
        }
      ],
      "source": [
        "num1 = 5 #variable de tipo entero.\n",
        "num2 = 4.9 #variable de tipo double, real, decimal.\n",
        "print(\"Los valores: Num 1: \", num1, \" Num 2: \", num2)\n",
        "\n",
        "#num1 = 4.9\n",
        "print(\"Valor: Num 1: \", num1)"
      ]
    },
    {
      "cell_type": "code",
      "execution_count": null,
      "metadata": {
        "colab": {
          "base_uri": "https://localhost:8080/"
        },
        "id": "yayrOQVN8u3r",
        "outputId": "c12fbb39-a7c6-429e-e7bd-05071c1ba993"
      },
      "outputs": [
        {
          "name": "stdout",
          "output_type": "stream",
          "text": [
            "Variable Booleana:  False\n"
          ]
        }
      ],
      "source": [
        "varLogica = False\n",
        "\n",
        "print(\"Variable Booleana: \", varLogica)"
      ]
    },
    {
      "cell_type": "code",
      "execution_count": null,
      "metadata": {
        "colab": {
          "base_uri": "https://localhost:8080/"
        },
        "id": "Zig099CE9CAa",
        "outputId": "36f06054-429c-4953-952e-a75a8f6b3f00"
      },
      "outputs": [
        {
          "name": "stdout",
          "output_type": "stream",
          "text": [
            "Mi Nombre:  Luis Hernandez Iniciales:  L H Longitud:  14\n",
            "Primer Nombre:  Luis \n",
            "Primer Nombre:  Luis \n",
            "Apellido:  Hernandez\n",
            "Apellid:  Hernandez\n",
            "Apellido:  Hernandez\n"
          ]
        }
      ],
      "source": [
        "nombre = \"Luis Hernandez\"\n",
        "print(\"Mi Nombre: \", nombre, \"Iniciales: \", nombre[0], nombre[5], \"Longitud: \", len(nombre) )\n",
        "print(\"Primer Nombre: \", nombre[0:5])\n",
        "print(\"Primer Nombre: \", nombre[:5])\n",
        "print(\"Apellido: \", nombre[5:len(nombre)])\n",
        "print(\"Apellid: \", nombre[5:])\n",
        "print(\"Apellido: \", nombre[-9:])\n"
      ]
    },
    {
      "cell_type": "code",
      "execution_count": null,
      "metadata": {
        "colab": {
          "base_uri": "https://localhost:8080/"
        },
        "id": "3SjFmqx1BEtT",
        "outputId": "afaab7bc-8dff-4fb2-a3a3-a6e3887db0b2"
      },
      "outputs": [
        {
          "name": "stdout",
          "output_type": "stream",
          "text": [
            "<class 'int'>\n",
            "<class 'float'>\n",
            "<class 'bool'>\n",
            "<class 'str'>\n"
          ]
        }
      ],
      "source": [
        "print(type(num1))\n",
        "print(type(num2))\n",
        "print(type(varLogica))\n",
        "print(type(nombre))"
      ]
    },
    {
      "cell_type": "code",
      "execution_count": null,
      "metadata": {
        "id": "FEQBcLJfCB2l"
      },
      "outputs": [],
      "source": [
        "num1 = float(input(\"Num 1: \"))\n",
        "num2 = float(input(\"Num 2: \"))\n",
        "resp = num1 + num2\n",
        "print(\"La suma es: \", resp)"
      ]
    },
    {
      "cell_type": "code",
      "execution_count": null,
      "metadata": {
        "id": "2Ux8q7gtCqLU"
      },
      "outputs": [],
      "source": [
        "def suma(num1, num2):\n",
        "  return num1 + num2"
      ]
    },
    {
      "cell_type": "code",
      "execution_count": null,
      "metadata": {
        "colab": {
          "base_uri": "https://localhost:8080/"
        },
        "id": "w4vsG6DsCy8E",
        "outputId": "27a30e0b-68b7-4526-c0cf-41ff1af9a764"
      },
      "outputs": [
        {
          "name": "stdout",
          "output_type": "stream",
          "text": [
            "Num 1: 4\n",
            "N4.2um 2: 6\n",
            "10.0\n"
          ]
        }
      ],
      "source": [
        "num1 = float(input(\"Num 1: \"))\n",
        "num2 = float(input(\"N4.26um 2: \"))\n",
        "resp = suma(num1, num2)\n",
        "print(resp)"
      ]
    },
    {
      "cell_type": "markdown",
      "metadata": {
        "id": "6cq55WCdAnzB"
      },
      "source": [
        "**FUNCIONES DE USUARIO**\n",
        "\n",
        "* Convertir grados celsius a farenheit."
      ]
    },
    {
      "cell_type": "code",
      "execution_count": null,
      "metadata": {
        "id": "7SufsIquBvy3"
      },
      "outputs": [],
      "source": [
        "def convertir_cf(c):\n",
        "  return 32 + c*9/5"
      ]
    },
    {
      "cell_type": "code",
      "execution_count": null,
      "metadata": {
        "colab": {
          "base_uri": "https://localhost:8080/"
        },
        "id": "SurIz-llAnOq",
        "outputId": "a66a8d33-9640-4e8b-a14e-5752cf47057e"
      },
      "outputs": [
        {
          "name": "stdout",
          "output_type": "stream",
          "text": [
            "Celsius: 3\n",
            "F:  37.4\n"
          ]
        }
      ],
      "source": [
        "c = float(input(\"Celsius: \"))\n",
        "print(\"F: \", convertir_cf(c))"
      ]
    },
    {
      "cell_type": "markdown",
      "metadata": {
        "id": "kZ5SZj9jGwOd"
      },
      "source": [
        "**EJERCICIOS**\n",
        "* Convertir de Farenheit a Celsius\n",
        "* Convertir de [Celsius, Farenheit] a Kelvin"
      ]
    },
    {
      "cell_type": "markdown",
      "metadata": {
        "id": "QASAQE1qKDph"
      },
      "source": [
        "* CALCULAR EL SUELDO MENSUAL"
      ]
    },
    {
      "cell_type": "code",
      "execution_count": null,
      "metadata": {
        "id": "T-V9nZ5ZJHhf"
      },
      "outputs": [],
      "source": [
        "def sueldo(numHrs, valorXhr):\n",
        "  sueldo = numHrs*valorXhr*30\n",
        "  if(numHrs>8):\n",
        "    sueldo += (numHrs-8)*valorXhr*2*30\n",
        "  #isss + afp = 3 + 6.25 = 9.25 = 100 - 9.25 = 90.75/100 = 0.9075\n",
        "  #sueldo = sueldo*0.9075\n",
        "  return sueldo"
      ]
    },
    {
      "cell_type": "code",
      "execution_count": null,
      "metadata": {
        "id": "EVHH4A95VL5O"
      },
      "outputs": [],
      "source": [
        "tabla_isr = [\n",
        "    [0.01, 472, 0, 0],\n",
        "    [472.01, 895.24, 0.1, 17.67],\n",
        "    [895.25, 2038.1, 0.2, 60.00],\n",
        "    [2038.11,9999999, 0.3, 288.57]\n",
        "]"
      ]
    },
    {
      "cell_type": "code",
      "execution_count": null,
      "metadata": {
        "id": "1L4sEmNOXTiC"
      },
      "outputs": [],
      "source": [
        "def calcularIsr(sueldo, sueldoNeto):\n",
        "  impSr = 0\n",
        "  for tramo in tabla_isr:\n",
        "    if sueldo>tramo[0] and sueldo<=tramo[1]:\n",
        "      impSr = (sueldoNeto-tramo[0])*tramo[2] + tramo[3]\n",
        "  return impSr"
      ]
    },
    {
      "cell_type": "code",
      "execution_count": null,
      "metadata": {
        "colab": {
          "base_uri": "https://localhost:8080/"
        },
        "id": "yh6CLsKzKsrj",
        "outputId": "b9f75f1f-9a2d-445f-abfb-9004f88e1a1e"
      },
      "outputs": [
        {
          "name": "stdout",
          "output_type": "stream",
          "text": [
            "Horas trabajadas: 8\n",
            "Sueldo:  960.0 ISR:  55.18999999999998 816.01\n"
          ]
        }
      ],
      "source": [
        "valorXhr = 4\n",
        "#isss = 3%\n",
        "#afp = 6.25%\n",
        "numHrs = float(input(\"Horas trabajadas: \"))\n",
        "s = sueldo(numHrs, valorXhr)\n",
        "isr = calcularIsr(s, s*0.9075)\n",
        "print( \"Sueldo: \", s, \"ISR: \", isr, s*0.9075-isr )"
      ]
    },
    {
      "cell_type": "markdown",
      "metadata": {
        "id": "heQxy-5yC4lK"
      },
      "source": [
        "**FUNCIONES LAMBDA**\n",
        "* FUNCIONES PRECONTRUIDAS MAP, FILTER, FIND, REDUCE, ETC."
      ]
    },
    {
      "cell_type": "code",
      "execution_count": null,
      "metadata": {
        "id": "eeH3DBemEiwZ"
      },
      "outputs": [],
      "source": [
        "def elevarCuadrado(num):\n",
        "  return num**2"
      ]
    },
    {
      "cell_type": "code",
      "execution_count": null,
      "metadata": {
        "id": "RTv6ZkhUFA1i"
      },
      "outputs": [],
      "source": [
        "data = [1,2,3,4,5]"
      ]
    },
    {
      "cell_type": "code",
      "execution_count": null,
      "metadata": {
        "colab": {
          "base_uri": "https://localhost:8080/"
        },
        "id": "PctATc9kDA2S",
        "outputId": "40cb686c-6d0a-49d5-b692-469e0dbaec0f"
      },
      "outputs": [
        {
          "name": "stdout",
          "output_type": "stream",
          "text": [
            "[1, 4, 9, 16, 25]\n"
          ]
        }
      ],
      "source": [
        "resp = map(elevarCuadrado, data)\n",
        "print(list(resp))"
      ]
    },
    {
      "cell_type": "code",
      "execution_count": null,
      "metadata": {
        "colab": {
          "base_uri": "https://localhost:8080/"
        },
        "id": "vNONfviMEuzJ",
        "outputId": "4ade38b4-3ed9-4e23-d0e3-bcb8c297176c"
      },
      "outputs": [
        {
          "name": "stdout",
          "output_type": "stream",
          "text": [
            "[1, 4, 9, 16, 25]\n"
          ]
        }
      ],
      "source": [
        "resp = map(lambda n:n**2, data)\n",
        "print(list(resp))"
      ]
    },
    {
      "cell_type": "code",
      "execution_count": null,
      "metadata": {
        "colab": {
          "base_uri": "https://localhost:8080/"
        },
        "id": "jSN45xd5E2Vi",
        "outputId": "f78c3d04-e994-4d44-f52e-bada260bb552"
      },
      "outputs": [
        {
          "name": "stdout",
          "output_type": "stream",
          "text": [
            "[1]\n"
          ]
        }
      ],
      "source": [
        "resp = filter(lambda n:n>2, data)\n",
        "print( list(resp) )"
      ]
    },
    {
      "cell_type": "code",
      "execution_count": null,
      "metadata": {
        "colab": {
          "base_uri": "https://localhost:8080/"
        },
        "id": "e83DxapWFYQp",
        "outputId": "4433b75d-ecdc-4d9b-f1f8-d2bb45140914"
      },
      "outputs": [
        {
          "name": "stdout",
          "output_type": "stream",
          "text": [
            "15\n"
          ]
        }
      ],
      "source": [
        "resp = functools.reduce(lambda a,n:a+n, data)\n",
        "print(resp)"
      ]
    },
    {
      "cell_type": "markdown",
      "metadata": {
        "id": "9RYnyWcrH5NJ"
      },
      "source": [
        "**TUPLAS**"
      ]
    },
    {
      "cell_type": "code",
      "execution_count": null,
      "metadata": {
        "colab": {
          "base_uri": "https://localhost:8080/"
        },
        "id": "cUXhU5ubH46h",
        "outputId": "bbae442a-cf08-459a-d245-a1d1d0e15618"
      },
      "outputs": [
        {
          "name": "stdout",
          "output_type": "stream",
          "text": [
            "1\n",
            "7\n"
          ]
        }
      ],
      "source": [
        "semana = (\"domingo\", \"lunes\", \"martes\", \"miercoles\", \"jueves\", \"viernes\", \"sabado\")\n",
        "#semana[0] = \"otro\"\n",
        "print( semana.count(\"domingo\") ) #count cuenta el numero de veces que aparece un elemento en la tupla\n",
        "print( len(semana) )"
      ]
    },
    {
      "cell_type": "markdown",
      "metadata": {
        "id": "r8xQvE7MJytA"
      },
      "source": [
        "**LISTAS** => **Array**"
      ]
    },
    {
      "cell_type": "code",
      "execution_count": null,
      "metadata": {
        "colab": {
          "base_uri": "https://localhost:8080/"
        },
        "id": "nomZjGFhJkBw",
        "outputId": "d3d965a4-c3d2-4205-d6c8-512a6c81e1c9"
      },
      "outputs": [
        {
          "name": "stdout",
          "output_type": "stream",
          "text": [
            "['nov', 'dic']\n",
            "['ene', 'feb']\n",
            "['enero', 'feb', 'mar', 'abr', 'may', 'jun', 'jul', 'ago', 'sep', 'oct', 'nov', 'dic']\n"
          ]
        }
      ],
      "source": [
        "meses = [\"ene\", \"feb\", \"mar\", \"abr\", \"may\", \"jun\", \"jul\", \"ago\", \"sep\", \"oct\", \"nov\", \"dic\"]\n",
        "print( meses[-2:] ) #ultimos dos meses del año\n",
        "print( meses[:2] ) #primero dos meses del año\n",
        "\n",
        "meses[0] = \"enero\"\n",
        "\n",
        "print( meses )"
      ]
    },
    {
      "cell_type": "code",
      "execution_count": null,
      "metadata": {
        "colab": {
          "base_uri": "https://localhost:8080/"
        },
        "id": "6ctEMmtTKzS5",
        "outputId": "0dbc90e3-551d-408f-cfb4-c97f0e8151fd"
      },
      "outputs": [
        {
          "name": "stdout",
          "output_type": "stream",
          "text": [
            "Progra II\n"
          ]
        }
      ],
      "source": [
        "materias = [ [\"Progra I\", [5,6,8], [8,7,9], [9,10,9] ], [\"Progra II\"] ]\n",
        "print( materias[1][0] )"
      ]
    },
    {
      "cell_type": "markdown",
      "metadata": {
        "id": "RwntUNyBLnxB"
      },
      "source": [
        "**DICCIONARIOS** => **JSON**"
      ]
    },
    {
      "cell_type": "code",
      "execution_count": null,
      "metadata": {
        "colab": {
          "base_uri": "https://localhost:8080/"
        },
        "id": "yvSSwGxWLsRU",
        "outputId": "ae4fdf71-c0ca-4d39-b237-a4d8e86c67ba"
      },
      "outputs": [
        {
          "name": "stdout",
          "output_type": "stream",
          "text": [
            "5\n"
          ]
        }
      ],
      "source": [
        "materias = {\n",
        "    \"Progra I\": {\n",
        "        \"c1\": {\n",
        "          \"lab1\" : 5,\n",
        "          \"lab2\" : 6,\n",
        "          \"parcial\" : 8\n",
        "      },\n",
        "      \"c2\": {\n",
        "          \"lab1\" : 8,\n",
        "          \"lab2\" : 7,\n",
        "          \"parcial\" : 9\n",
        "      },\n",
        "      \"c3\": {\n",
        "          \"lab1\" : 9,\n",
        "          \"lab2\" : 10,\n",
        "          \"parcial\" : 9\n",
        "      }\n",
        "    },\n",
        "    \"Progra II\" :{\n",
        "\n",
        "    }\n",
        "}\n",
        "print( materias[\"Progra I\"][\"c1\"][\"lab1\"] )"
      ]
    },
    {
      "cell_type": "markdown",
      "metadata": {
        "id": "rflA-XK2Gxzp"
      },
      "source": [
        "**LISTAS**"
      ]
    },
    {
      "cell_type": "code",
      "execution_count": null,
      "metadata": {
        "id": "uUSZtwSvG8CR"
      },
      "outputs": [],
      "source": [
        "data = [2,5,6,8,9]"
      ]
    },
    {
      "cell_type": "code",
      "execution_count": null,
      "metadata": {
        "colab": {
          "base_uri": "https://localhost:8080/"
        },
        "id": "EVZwYIs6HP1Y",
        "outputId": "7455c227-c1de-4507-b85c-e449c19bc691"
      },
      "outputs": [
        {
          "name": "stdout",
          "output_type": "stream",
          "text": [
            "[8, 125, 216, 512, 729]\n"
          ]
        }
      ],
      "source": [
        "resp = map(lambda n:n**3, data)\n",
        "print(list(resp))"
      ]
    },
    {
      "cell_type": "code",
      "execution_count": null,
      "metadata": {
        "colab": {
          "base_uri": "https://localhost:8080/"
        },
        "id": "V9_XbvqiIUv9",
        "outputId": "e125616f-6872-420f-a42f-1a147c0fbc71"
      },
      "outputs": [
        {
          "name": "stdout",
          "output_type": "stream",
          "text": [
            "[35.6, 41.0, 42.8, 46.4, 48.2]\n"
          ]
        }
      ],
      "source": [
        "f = map(lambda c:c*9/5 + 32, data)\n",
        "print( list(f) )"
      ]
    },
    {
      "cell_type": "code",
      "execution_count": null,
      "metadata": {
        "colab": {
          "base_uri": "https://localhost:8080/"
        },
        "id": "J72OJuAnKl2r",
        "outputId": "abaa672e-0ca3-4052-e9b3-b443a5d177c0"
      },
      "outputs": [
        {
          "name": "stdout",
          "output_type": "stream",
          "text": [
            "[2, 6, 8]\n"
          ]
        }
      ],
      "source": [
        "pares = filter(lambda n:n%2==0, data)\n",
        "print( list(pares) )"
      ]
    },
    {
      "cell_type": "code",
      "execution_count": null,
      "metadata": {
        "colab": {
          "base_uri": "https://localhost:8080/"
        },
        "id": "Tbag1lNsNtCU",
        "outputId": "7f9e679a-f3d4-45d9-afed-935e602e3fde"
      },
      "outputs": [
        {
          "name": "stdout",
          "output_type": "stream",
          "text": [
            "[5, 9]\n"
          ]
        }
      ],
      "source": [
        "impares = filter(lambda n:n%2!=0, data)\n",
        "print( list(impares) )"
      ]
    },
    {
      "cell_type": "markdown",
      "metadata": {
        "id": "ptWdcZGNOYHq"
      },
      "source": [
        "**CICLOS**\n",
        "* FOR"
      ]
    },
    {
      "cell_type": "code",
      "execution_count": null,
      "metadata": {
        "id": "wxR2o4jcOVnL"
      },
      "outputs": [],
      "source": [
        "for item in data:\n",
        "  print(item)"
      ]
    },
    {
      "cell_type": "markdown",
      "metadata": {
        "id": "gQJ7xiLSO8Uh"
      },
      "source": [
        "* WHILE"
      ]
    },
    {
      "cell_type": "code",
      "execution_count": null,
      "metadata": {
        "id": "2ZUiISg8O7ox"
      },
      "outputs": [],
      "source": [
        "i=0\n",
        "n = len(data)\n",
        "while i<n:\n",
        "  print( data[i] )\n",
        "  i+=1"
      ]
    },
    {
      "cell_type": "markdown",
      "metadata": {
        "id": "RHUHe8PZPwmx"
      },
      "source": [
        "**TABLA DE MULTIPLICAR**"
      ]
    },
    {
      "cell_type": "code",
      "execution_count": null,
      "metadata": {
        "id": "bGpBsH0TPJ5g"
      },
      "outputs": [],
      "source": [
        "n = int(input(\"N Tabla: \"))\n",
        "\n",
        "for i in range(1,11):\n",
        "  print( n, \"x\", i, \"=\", n*i )"
      ]
    },
    {
      "cell_type": "code",
      "execution_count": null,
      "metadata": {
        "colab": {
          "base_uri": "https://localhost:8080/"
        },
        "id": "_L4PXBeGSkA8",
        "outputId": "cad7eae6-7a7c-49e4-9e1a-d42968df8b05"
      },
      "outputs": [
        {
          "name": "stdout",
          "output_type": "stream",
          "text": [
            "Edad: 5\n",
            "Soy un niño\n"
          ]
        }
      ],
      "source": [
        "edad = int(input(\"Edad: \"))\n",
        "\n",
        "if edad<=2:\n",
        "  print(\"soy un bebe\")\n",
        "elif edad<=11:\n",
        "  print(\"Soy un niño\")\n",
        "elif edad<18:\n",
        "  print(\"Soy un adolescente\")\n",
        "elif edad<=65:\n",
        "  print(\"soy mayor de edad\")\n",
        "elif edad<=85:\n",
        "  print(\"Soy un adulto mayor\")\n",
        "else:\n",
        "  print(\"Larga vida\")"
      ]
    },
    {
      "cell_type": "code",
      "execution_count": null,
      "metadata": {
        "id": "gM0bEvUTSmya"
      },
      "outputs": [],
      "source": [
        "lista = [5,8,9,15,7,9,2,3, 2, 1]"
      ]
    },
    {
      "cell_type": "code",
      "execution_count": null,
      "metadata": {
        "colab": {
          "base_uri": "https://localhost:8080/"
        },
        "id": "AblaQU4qStll",
        "outputId": "7cbaae80-b77e-4d6a-ccd2-569752ce104d"
      },
      "outputs": [
        {
          "name": "stdout",
          "output_type": "stream",
          "text": [
            "EL numero mayor de la lista:  [5, 8, 9, 15, 7, 9, 2, 3, 2, 1] es:  15\n"
          ]
        }
      ],
      "source": [
        "mayor = 0\n",
        "for num in lista:\n",
        "  if num>mayor:\n",
        "    mayor = num\n",
        "print(\"EL numero mayor de la lista: \", lista, \"es: \", mayor)"
      ]
    },
    {
      "cell_type": "code",
      "execution_count": null,
      "metadata": {
        "colab": {
          "base_uri": "https://localhost:8080/"
        },
        "id": "5Jg3sc5KSvMN",
        "outputId": "72ea4dd9-05b6-4663-e480-b3e45f84c86b"
      },
      "outputs": [
        {
          "name": "stdout",
          "output_type": "stream",
          "text": [
            "15\n"
          ]
        }
      ],
      "source": [
        "mayor = 0\n",
        "i=0\n",
        "n=len(lista)\n",
        "while i<n:\n",
        "  if lista[i]>mayor:\n",
        "    mayor = lista[i]\n",
        "  i+=1\n",
        "print(mayor)"
      ]
    },
    {
      "cell_type": "markdown",
      "metadata": {
        "id": "kp37Mh-9Jm4E"
      },
      "source": [
        "**Escribir un programa que pida la nota de un examen (0-10), e imprima por pantalla la calificacion en formato: \"Suspenso\" si la nota es menor a 5, \"Aprobado\" si es entre 5 inclusive, y 7 sin incluir, \"Notable\" si esta entre 7 inclusive y 9 sin incluir, \"Sobresaliente\" si esta entre 9 inclusive y 10 sin incluir, y \"Honorable\" si es 10**\n"
      ]
    },
    {
      "cell_type": "code",
      "execution_count": null,
      "metadata": {
        "colab": {
          "base_uri": "https://localhost:8080/"
        },
        "id": "3aEtrKofJh38",
        "outputId": "ebda1b09-de91-4d21-ff66-6eb54b827f4a"
      },
      "outputs": [
        {
          "name": "stdout",
          "output_type": "stream",
          "text": [
            "Nota: 10\n",
            "HONORABLE\n"
          ]
        }
      ],
      "source": [
        "nota = float(input(\"Nota: \"))\n",
        "if(nota<0 or nota>10):\n",
        "  print(\"Nota invalida\")\n",
        "elif(nota<5):\n",
        "  print(\"SUPENSO\")\n",
        "elif(nota<7):\n",
        "  print(\"APROBADO\")\n",
        "elif(nota<9):\n",
        "  print(\"NOTABLE\")\n",
        "elif(nota<10):\n",
        "  print(\"SOBRESALIENTE\")\n",
        "else:\n",
        "  print(\"HONORABLE\")"
      ]
    },
    {
      "cell_type": "markdown",
      "metadata": {
        "id": "5vjEaZgMTKgI"
      },
      "source": [
        "**Escriba un programa que muestre la secuencia fibonacci**"
      ]
    },
    {
      "cell_type": "code",
      "execution_count": null,
      "metadata": {
        "id": "-FHRFWknTKIh"
      },
      "outputs": [],
      "source": [
        "limit = int(input(\"Limit: \"))\n",
        "a=0\n",
        "b=1\n",
        "c=0\n",
        "while c<limit:\n",
        "  c=a+b\n",
        "  print(a,\"+\",b,\"=\", c)\n",
        "  b=a\n",
        "  a=c\n"
      ]
    },
    {
      "cell_type": "markdown",
      "metadata": {
        "id": "pGta5MfgSwri"
      },
      "source": []
    },
    {
      "cell_type": "markdown",
      "metadata": {
        "id": "S2FEGrj0c0Yu"
      },
      "source": [
        "1. **Escriba un programa que encuentre la media aritmetica de una serie de numeros introducidos por el usuario**\n",
        "2. **Escriba un programa que determine si una palabra introducida por el usuario es palindrome o no, ejm. de palabras palindrome: Ana, oso, oro, etc.**\n",
        "3. Escriba un programa que convierta un numero instroducido por el usuario a su equivalente en numeros romanos. Ejm: 5 -> V"
      ]
    },
    {
      "cell_type": "markdown",
      "metadata": {
        "id": "SO7e1TgjQFzL"
      },
      "source": [
        "**PROGRAMACION ORIENTADA A OBJETOS.**\n",
        "\n",
        "* CLASE"
      ]
    },
    {
      "cell_type": "code",
      "execution_count": null,
      "metadata": {
        "id": "Q4--jycBQRW1"
      },
      "outputs": [],
      "source": [
        "class Calculadora:\n",
        "  def sumar(sefl, num1, num2):\n",
        "    return num1 + num2"
      ]
    },
    {
      "cell_type": "markdown",
      "metadata": {
        "id": "oAURe7sOQqoz"
      },
      "source": [
        "* INSTANCIA DE UNA CLASE"
      ]
    },
    {
      "cell_type": "code",
      "execution_count": null,
      "metadata": {
        "id": "B2S0xUofQmqk"
      },
      "outputs": [],
      "source": [
        "objCalculadora = Calculadora()"
      ]
    },
    {
      "cell_type": "markdown",
      "metadata": {
        "id": "9_7inFkhRBmr"
      },
      "source": [
        "* OBJETO"
      ]
    },
    {
      "cell_type": "code",
      "execution_count": null,
      "metadata": {
        "colab": {
          "base_uri": "https://localhost:8080/"
        },
        "id": "BGr-KldCRBOL",
        "outputId": "4cb28bcb-89c2-4fb9-fe90-108a95e1e2c4"
      },
      "outputs": [
        {
          "name": "stdout",
          "output_type": "stream",
          "text": [
            "La suma de 5 + 3 =  8\n"
          ]
        }
      ],
      "source": [
        "print( \"La suma de 5 + 3 = \", objCalculadora.sumar(5,3) )"
      ]
    },
    {
      "cell_type": "markdown",
      "metadata": {
        "id": "i3mLjsZKMmKV"
      },
      "source": [
        "*Escriba un programa que convierta un numero instroducido por el usuario a su equivalente en numeros romanos. Ejm: 5 -> V *"
      ]
    },
    {
      "cell_type": "code",
      "execution_count": null,
      "metadata": {
        "colab": {
          "base_uri": "https://localhost:8080/"
        },
        "id": "ILLGjDkvM2xP",
        "outputId": "60fbf4a2-b42a-40f1-8b59-ac422196ce3c"
      },
      "outputs": [
        {
          "name": "stdout",
          "output_type": "stream",
          "text": [
            "Introduce un número decimal: 2\n",
            "El número romano equivalente es: II\n"
          ]
        }
      ],
      "source": [
        "def decimal_a_romano(numero):\n",
        "    val = [\n",
        "        1000, 900, 500, 400,\n",
        "        100, 90, 50, 40,\n",
        "        10, 9, 5, 4,\n",
        "        1\n",
        "        ]\n",
        "    syb = [\n",
        "        \"M\", \"CM\", \"D\", \"CD\",\n",
        "        \"C\", \"XC\", \"L\", \"XL\",\n",
        "        \"X\", \"IX\", \"V\", \"IV\",\n",
        "        \"I\"\n",
        "        ]\n",
        "    roman_num = ''\n",
        "    i = 0\n",
        "    while  numero > 0:\n",
        "        for _ in range(numero // val[i]):\n",
        "            roman_num += syb[i]\n",
        "            numero -= val[i]\n",
        "        i += 1\n",
        "    return roman_num\n",
        "\n",
        "try:\n",
        "    numero_decimal = int(input(\"Introduce un número decimal: \"))\n",
        "    if numero_decimal <= 0:\n",
        "        print(\"Ingresa un número entero positivo.\")\n",
        "    else:\n",
        "        numero_romano = decimal_a_romano(numero_decimal)\n",
        "        print(f\"El número romano equivalente es: {numero_romano}\")\n",
        "except ValueError:\n",
        "    print(\"Ingresa un número válido.\")\n"
      ]
    },
    {
      "cell_type": "markdown",
      "metadata": {
        "id": "xq4FB42PNBew"
      },
      "source": [
        "Escriba un programa que determine si una palabra introducida por el usuario es palindrome o no, ejm. de palabras palindrome: Ana, oso, oro, etc.\n",
        "\n",
        "\n"
      ]
    },
    {
      "cell_type": "code",
      "execution_count": null,
      "metadata": {
        "id": "FGjAMWefNjvo"
      },
      "outputs": [],
      "source": [
        "def es_palindromo(palabra):\n",
        "    palabra = palabra.lower()\n",
        "    palabra = palabra.replace(\" \", \"\")\n",
        "    return palabra == palabra[::-1]\n",
        "\n",
        "palabra_usuario = input(\"Introduce una palabra: \")\n",
        "\n",
        "if es_palindromo(palabra_usuario):\n",
        "    print(f\"{palabra_usuario} es un palíndromo.\")\n",
        "else:\n",
        "    print(f\"{palabra_usuario} no es un palíndromo.\")\n"
      ]
    },
    {
      "cell_type": "markdown",
      "metadata": {
        "id": "6rej3EicNtxF"
      },
      "source": [
        "Escriba un programa que encuentre la media aritmetica de una serie de numeros introducidos por el usuario"
      ]
    },
    {
      "cell_type": "code",
      "execution_count": null,
      "metadata": {
        "id": "cDmgoX-3Nzow"
      },
      "outputs": [],
      "source": [
        "def calcular_media(lista_numeros):\n",
        "    suma = sum(lista_numeros)\n",
        "    media = suma / len(lista_numeros)\n",
        "    return media\n",
        "\n",
        "numeros_usuario = input(\"Introduce una serie de números separados por espacios: \")\n",
        "numeros_lista = [float(numero) for numero in numeros_usuario.split()]\n",
        "\n",
        "if numeros_lista:\n",
        "    media = calcular_media(numeros_lista)\n",
        "    print(f\"La media aritmética de los números ingresados es: {media}\")\n",
        "else:\n",
        "    print(\"No se ingresaron números válidos.\")\n"
      ]
    },
    {
      "cell_type": "markdown",
      "metadata": {
        "id": "1u_5qhZa_jWU"
      },
      "source": []
    },
    {
      "cell_type": "markdown",
      "metadata": {
        "id": "YDXxijib_ikF"
      },
      "source": [
        "TAREA"
      ]
    },
    {
      "cell_type": "markdown",
      "metadata": {
        "id": "n7-PengXQHYk"
      },
      "source": [
        "---\n",
        "---\n",
        "####**Calcular sobre el sueldo las deducciones por ley ISSS (3%), AFP(6.25%), ISR(Según tabla) e imprima el total deducciones y sueldo neto.**"
      ]
    },
    {
      "cell_type": "code",
      "execution_count": null,
      "metadata": {
        "id": "hJd6UKQuxzhL"
      },
      "outputs": [],
      "source": [
        "def sueldo(numHrs, valorXhr):\n",
        "  sueldo = numHrs*valorXhr*30\n",
        "  if(numHrs>8):\n",
        "    sueldo += (numHrs-8)*valorXhr*2*30\n",
        "\n",
        "  return sueldo"
      ]
    },
    {
      "cell_type": "code",
      "execution_count": null,
      "metadata": {
        "id": "b_pEkZlYx1zI"
      },
      "outputs": [],
      "source": [
        "tabla_isr = [\n",
        "    [0.01, 472, 0, 0],\n",
        "    [472.01, 895.24, 0.1, 17.67],\n",
        "    [895.25, 2038.1, 0.2, 60.00],\n",
        "    [2038.11, 9999999, 0.3, 288.57]\n",
        "]"
      ]
    },
    {
      "cell_type": "code",
      "execution_count": null,
      "metadata": {
        "id": "4CM9zj7-x37T"
      },
      "outputs": [],
      "source": [
        "def calcularIsr(sueldo, sueldoNeto):\n",
        " impSr = 0\n",
        " for tramo in tabla_isr:\n",
        "   if sueldo>tramo[0] and sueldo<=tramo[1]:\n",
        "     impSr = (sueldoNeto-tramo[0])*tramo[2] + tramo[3]\n",
        "     return impSr"
      ]
    },
    {
      "cell_type": "code",
      "execution_count": null,
      "metadata": {
        "colab": {
          "base_uri": "https://localhost:8080/"
        },
        "id": "k6Qq07Kbx6HT",
        "outputId": "de9ba3a2-cd79-45eb-b775-9f86a1c89d62"
      },
      "outputs": [
        {
          "name": "stdout",
          "output_type": "stream",
          "text": [
            "Horas trabajadas: 144\n",
            "\u001b[1;32mSueldo: $ 49920.0 \u001b[1;31m\n",
            "ISR: 13267.857 32034.543\n"
          ]
        }
      ],
      "source": [
        "valorXhr = 4\n",
        "#iss = 3%\n",
        "#afp = 6.26%\n",
        "numHrs = float(input(\"Horas trabajadas: \"))\n",
        "s = sueldo(numHrs, valorXhr)\n",
        "isr = calcularIsr(s, s*0.9075)\n",
        "print(chr(27)+\"[1;32m\"+\"Sueldo:\", \"$\",s,chr(27)+\"[1;31m\"+'\\n'\"ISR:\", isr, s*0.9075-isr)"
      ]
    },
    {
      "cell_type": "markdown",
      "metadata": {
        "id": "ZLlY_A61RCo_"
      },
      "source": [
        "---\n",
        "---\n",
        "####**Calcular el valor a pagar según el número de metros consumidos de agua potable**"
      ]
    },
    {
      "cell_type": "code",
      "execution_count": null,
      "metadata": {
        "colab": {
          "base_uri": "https://localhost:8080/"
        },
        "id": "QjQLHIbqhCTt",
        "outputId": "9c8f2f11-e747-4e21-8cb7-9fc1d12b2d4f"
      },
      "outputs": [
        {
          "name": "stdout",
          "output_type": "stream",
          "text": [
            "Ingrese la cantidad de metros consumidos: 59\n",
            "\u001b[1;32mEl valor a pagar es: 30.650000000000002 dólares\n"
          ]
        }
      ],
      "source": [
        "def calcular_valor_agua(metros_consumidos):\n",
        "    if metros_consumidos <= 18:\n",
        "        valor_pagar = 6\n",
        "    elif 19 <= metros_consumidos <= 28:\n",
        "        exceso_metros = metros_consumidos - 18\n",
        "        valor_exceso = exceso_metros * 0.45\n",
        "        valor_pagar = 6 + valor_exceso\n",
        "    else:\n",
        "        29>= metros_consumidos\n",
        "        exceso_metros = metros_consumidos - 28\n",
        "        valor_exceso = exceso_metros * 0.65\n",
        "\n",
        "        exceso_metros1 = 28 - 18\n",
        "        valor_exceso1 = exceso_metros1 * 0.45\n",
        "\n",
        "        valor_pagar = valor_exceso + valor_exceso1 + 6\n",
        "\n",
        "    return valor_pagar\n",
        "\n",
        "metros_consumidos = int(input(\"Ingrese la cantidad de metros consumidos: \"))\n",
        "valor_total = calcular_valor_agua(metros_consumidos)\n",
        "print(chr(27)+\"[1;32m\"+(f\"El valor a pagar es: {valor_total} dólares\"))"
      ]
    },
    {
      "cell_type": "markdown",
      "metadata": {
        "id": "eOLngbzrRbdU"
      },
      "source": [
        "---\n",
        "---\n",
        "#### **Desarrolle la tabla de meses acumulados a n meses. Si puede encontrar la formula matemática para evitar ciclos.**"
      ]
    },
    {
      "cell_type": "markdown",
      "metadata": {
        "id": "jk08J8zB4eQv"
      },
      "source": [
        "El usuario digita el mes que desea acumular"
      ]
    },
    {
      "cell_type": "code",
      "execution_count": null,
      "metadata": {
        "colab": {
          "base_uri": "https://localhost:8080/"
        },
        "id": "jnYM-oH0zwpu",
        "outputId": "67445045-3d98-4ebd-9976-a675498feac2"
      },
      "outputs": [
        {
          "name": "stdout",
          "output_type": "stream",
          "text": [
            "Ingresa el número de meses: 0\n",
            "\u001b[1;32mLa cantidad acumulada durante 0 meses es: 0\n"
          ]
        }
      ],
      "source": [
        "def calcular_acumulado(n):\n",
        "\n",
        "    cantidad_acumulada = n * (n + 1) / 2\n",
        "\n",
        "    return cantidad_acumulada\n",
        "\n",
        "def main():\n",
        "    try:\n",
        "        n = int(input(\"Ingresa el número de meses: \"))\n",
        "        acumulado = calcular_acumulado(n)\n",
        "        print(chr(27)+\"[1;32m\"+\"La cantidad acumulada durante\", n, \"meses es:\", int(acumulado))\n",
        "    except ValueError:\n",
        "        print(\"Ingresa un número válido.\")\n",
        "\n",
        "if __name__ == \"__main__\":\n",
        "    main()\n"
      ]
    },
    {
      "cell_type": "markdown",
      "metadata": {
        "id": "xC41tPaQ4mBP"
      },
      "source": [
        "Imprime una tabla de meses acumulados"
      ]
    },
    {
      "cell_type": "code",
      "execution_count": null,
      "metadata": {
        "colab": {
          "base_uri": "https://localhost:8080/"
        },
        "id": "Sj-5lP9sRpOQ",
        "outputId": "a757f273-9131-4b94-ae68-3c2da61c893a"
      },
      "outputs": [
        {
          "name": "stdout",
          "output_type": "stream",
          "text": [
            "Mes 1: Acumulado = 1\n",
            "Mes 2: Acumulado = 3\n",
            "Mes 3: Acumulado = 6\n",
            "Mes 4: Acumulado = 10\n",
            "Mes 5: Acumulado = 15\n",
            "Mes 6: Acumulado = 21\n",
            "Mes 7: Acumulado = 28\n",
            "Mes 8: Acumulado = 36\n",
            "Mes 9: Acumulado = 45\n",
            "Mes 10: Acumulado = 55\n",
            "Mes 11: Acumulado = 66\n",
            "Mes 12: Acumulado = 78\n"
          ]
        }
      ],
      "source": [
        "def calcular_acumulados(valores_mensuales):\n",
        "    acumulados = [0]\n",
        "\n",
        "    for i in range(len(valores_mensuales)):\n",
        "        acumulado_actual = acumulados[-1] + valores_mensuales[i]\n",
        "        acumulados.append(acumulado_actual)\n",
        "\n",
        "    return acumulados[1:]\n",
        "\n",
        "valores_mensuales = [1, 2, 3, 4, 5, 6, 7, 8, 9, 10, 11, 12]\n",
        "acumulados = calcular_acumulados(valores_mensuales)\n",
        "\n",
        "for i, acumulado in enumerate(acumulados):\n",
        "    print(f\"Mes {i+1}: Acumulado = {acumulado}\")"
      ]
    },
    {
      "cell_type": "markdown",
      "metadata": {
        "id": "WMVcdCZ4R2f6"
      },
      "source": [
        "---\n",
        "---\n",
        "#### **Conversores**"
      ]
    },
    {
      "cell_type": "code",
      "execution_count": null,
      "metadata": {
        "colab": {
          "base_uri": "https://localhost:8080/"
        },
        "id": "zA6f1UL4xwHx",
        "outputId": "cbe421dc-d0bc-40a6-cc75-8a8ec4a62292"
      },
      "outputs": [
        {
          "name": "stdout",
          "output_type": "stream",
          "text": [
            "\u001b[1;33m  CONVERSORES DE: \u001b[0m\n",
            "1. Monedas\n",
            "2. Longitud\n",
            "3. Masa\n",
            "4. Almacenamiento\n",
            "5. Tiempo\n",
            "6. Volumen\n",
            "7. Area\n",
            "8. Salir\n",
            "Ingresa el número de la categoría que deseas: 4\n",
            "\u001b[1;31m  Conversor de Almacenamiento \n",
            "\u001b[92mUnidades Disponibles\u001b[0m\n",
            "GB: Gigabyte\n",
            "bit: Bit\n",
            "kb: Kilobit\n",
            "mb: Megabit\n",
            "Gb: Gigabit\n",
            "Tb: Terabit\n",
            "B: Byte\n",
            "kB: Kilobyte\n",
            "MB: Megabyte\n",
            "TB: Terabyte\n",
            "Convertir de:  B\n",
            "Convertir a: kb\n",
            "Ingrese la cantidad a convertir B: -6\n",
            "La conversion no es posible. Introdusca una cantidad superir a 0.\n",
            "¿Deseas seguir en el conversor? (si) para continuar o cualquier otra tecla para salir\n",
            "\u001b[1;33m  CONVERSORES DE: \u001b[0m\n",
            "1. Monedas\n",
            "2. Longitud\n",
            "3. Masa\n",
            "4. Almacenamiento\n",
            "5. Tiempo\n",
            "6. Volumen\n",
            "7. Area\n",
            "8. Salir\n",
            "Ingresa el número de la categoría que deseas: 8\n",
            "Saliendo...\n"
          ]
        }
      ],
      "source": [
        "\n",
        "monedas = {\n",
        "  \"USD\": (1, \"Dólar\"),\n",
        "  \"SVC\": (8.75, \"Colon salvadoreño\"),\n",
        "  \"GTQ\": (7.86, \"Quetzal\"),\n",
        "  \"hnl\": (24.72, \"Lempira\"),\n",
        "  \"nio\": (36.62, \"Córdoba\"),\n",
        "  \"eur\": (0.921265, \"Euro\"),\n",
        "  \"cad\": (1.35, \"Dólar canadiense\"),\n",
        "  \"mxn\": (17.14, \"Peso mexicano\"),\n",
        "  \"aud\": (1.55, \"Dólar australiano\"),\n",
        "  \"inr\": (83.0915, \"Rupia\")\n",
        "}\n",
        "longitud = {\n",
        "\n",
        "  \"km\": (1, \"Kilómetro\"),\n",
        "  \"cm\": (100000, \"Centímetro\"),\n",
        "  \"mm\": (1000000, \"Milímetro\"),\n",
        "  \"m\" : (1000, \"Metro\"),\n",
        "  \"rd\": (198.84, \"Barra\"),\n",
        "  \"nm\": (1000000000, \"Nanómetro\"),\n",
        "  \"mi\": (0.621371, \"Milla\"),\n",
        "  \"yd\": (1093.61, \"Yarda\"),\n",
        "  \"ft\": (3280.84, \"Pie\"),\n",
        "  \"in\": (39370.08, \"Pulgada\")\n",
        "\n",
        "}\n",
        "\n",
        "almacenamiento = {\n",
        "  \"GB\": (1, \"Gigabyte\"),\n",
        " \"bit\": (8589934592, \"Bit\"),\n",
        "  \"kb\": (8388608, \"Kilobit\"),\n",
        "  \"mb\": (8192, \"Megabit\"),\n",
        "  \"Gb\": (8, \"Gigabit\"),\n",
        "  \"Tb\": (0.008, \"Terabit\"),\n",
        "   \"B\":  (1073741824, \"Byte\"),\n",
        "  \"kB\": (1048576, \"Kilobyte\"),\n",
        "  \"MB\": (1024, \"Megabyte\"),\n",
        "  \"TB\": (9.77e10-4, \"Terabyte\")\n",
        "}\n",
        "masa = {\n",
        "    \"t\": (1, \"Tonelada\"),\n",
        "    \"kn\": (9.81, \"Kilonewton\"),\n",
        "    \"kg\": (1000, \"Kilogramo\"),\n",
        "    \"g\": (1000000, \"Gramo\"),\n",
        "    \"st\": (157.47, \"Piedra\"),\n",
        "    \"dag\": (100000, \"Decagramo\"),\n",
        "    \"mg\":  (1000000000, \"Miligramo\"),\n",
        "    \"ct\": (5000000, \"Quilate\"),\n",
        "    \"gr\": (15432358.35, \"Grano\"),\n",
        "    \"lb\": (2204.62, \"Libra\")\n",
        "}\n",
        "volumen = {\n",
        "     \"l\":(1, \"Litro\"),\n",
        "    \"ml\": (1000, \"Mililitro\"),\n",
        "    \"pc\": (0.0353147, \"Pie cúbico\"),\n",
        "    \"plc\": (61.0237, \"Pulgada cúbica\"),\n",
        "    \"mc\": (0.001, \"Metro cúbico\"),\n",
        "    \"ole\": (33.814, \"Onza líquida estadounidense\"),\n",
        "    \"ge\": (0.264172, \"Galón estadounidense\"),\n",
        "    \"tao\": (4.16667, \"Taza\"),\n",
        "    \"ches\": (67.628, \"Chopine\"),\n",
        "    \"ce\": (1.05669, \"Cuarto estadounidense\")\n",
        "}\n",
        "\n",
        "area = {\n",
        " \"mc\": (1, \"Metro cuadrado\"),\n",
        "\"kmc\": (0.000001, \"Kilómetro cuadrado\"),\n",
        "\"mic\": (0.0000003861, \"Micrómetro cuadrado\"),\n",
        " \"yc\": (1.19599, \"Yarda cuadrada\"),\n",
        " \"pc\": (10.7639, \"Pie cuadrado\"),\n",
        "\"plc\": (1550, \"Pulgada cuadrada\"),\n",
        "\"hec\": (0.0001, \"Hectárea\"),\n",
        "\"acre\": (0.000247105, \"Acre\"),\n",
        "\"cmc\": (10000, \"Centímetro cuadrado\"),\n",
        "\"mlmc\": (1000000, \"Milímetro cuadrado\")\n",
        "}\n",
        "\n",
        "tiempo = {\n",
        " \"s\": (1, \"Segundo\"),\n",
        "\"ns\": (1000000000, \"Nanosegundo\"),\n",
        "\"mrs\": (1000000, \"Microsegundo\"),\n",
        "\"mls\": (1000, \"Milisegundo\"),\n",
        "\"min\": (0.0166667, \"Minuto\"),\n",
        "  \"h\": (0.000277778, \"Hora\"),\n",
        "  \"d\": (0.000011574, \"Día\"),\n",
        "\"smn\": (0.0000016534, \"Semana\"),\n",
        " \"ms\": (0.00000038052, \"Milisegundo\"),\n",
        " \"añ\": (0.00000003171, \"Año\")\n",
        "}\n",
        "\n",
        "def convertir_unidades(conversores):\n",
        "     while True:\n",
        "        print(\"\\033[92m\" + \"Unidades Disponibles\" + \"\\033[0m\")\n",
        "        for unidad in conversores:\n",
        "           print(unidad + \": \" + conversores[unidad][1])\n",
        "\n",
        "\n",
        "        convertir_de = \"\"\n",
        "        convertir_a = \"\"\n",
        "        while convertir_de not in conversores :\n",
        "            convertir_de = input(\"Convertir de:  \")\n",
        "            if convertir_de not in conversores:\n",
        "             print(\"unidad no válida. Inténtelo nuevamente.\")\n",
        "\n",
        "        while convertir_a not in conversores:\n",
        "            convertir_a = input(\"Convertir a: \").lower()\n",
        "            if convertir_a not in conversores:\n",
        "             print(\"unidad no válida. Inténtelo nuevamente.\")\n",
        "\n",
        "        while True:\n",
        "           cantidad_input = input(f\"Ingrese la cantidad a convertir {convertir_de}: \")\n",
        "           try:\n",
        "              cantidad = float(cantidad_input)\n",
        "              break\n",
        "           except ValueError:\n",
        "            print(\"Ingrese un valor numérico .\")\n",
        "        origen = conversores[convertir_de][0]\n",
        "        destino = conversores[convertir_a][0]\n",
        "\n",
        "        operacion = (destino / origen) * cantidad\n",
        "\n",
        "        if operacion <= 0:\n",
        "          print(\"La conversion no es posible. Introdusca una cantidad superir a 0.\")\n",
        "\n",
        "        elif (operacion) < 0.001 or (operacion) >= 100000000000:\n",
        "            print(f\"{cantidad:.2f} {convertir_de} es igual a {operacion:.2e} {convertir_a}. en notación científica\")\n",
        "        else:\n",
        "            print(f\"{cantidad:.2f} {convertir_de} es igual a {operacion:.3f} {convertir_a}.\")\n",
        "\n",
        "\n",
        "        salir = input(\"¿Deseas seguir en el conversor? (si) para continuar o cualquier otra tecla para salir\")\n",
        "        if salir.lower() != \"si\":\n",
        "         break\n",
        "\n",
        "#conversor de masa\n",
        "def conversor_masa():\n",
        "   print(chr(27) + \"[1;31m\" + \"  Conversor de Masa \")\n",
        "   convertir_unidades(masa)\n",
        "\n",
        "#Conversor de longitud\n",
        "def conversor_longitud():\n",
        "  print(chr(27) + \"[1;31m\" + \"  Conversor de Longitud \")\n",
        "  convertir_unidades(longitud)\n",
        "\n",
        "#Conversor de almacenamiento\n",
        "\n",
        "def conversor_almacenamiento():\n",
        "   print(chr(27) + \"[1;31m\" + \"  Conversor de Almacenamiento \")\n",
        "   convertir_unidades(almacenamiento)\n",
        "\n",
        "#Conversor de area\n",
        "def conversor_area():\n",
        "  print(chr(27) + \"[1;31m\" + \"  Conversor de Area \")\n",
        "  convertir_unidades(area)\n",
        "\n",
        "#Conversor de volumnen\n",
        "def conversor_volumen():\n",
        "  print(chr(27) + \"[1;31m\" + \"  Conversor de Volumen \")\n",
        "  convertir_unidades(volumen)\n",
        "\n",
        "#Conversor de tiempo\n",
        "def conversor_tiempo():\n",
        "  print(chr(27) + \"[1;31m\" + \"  Conversor de Tiempo \")\n",
        "  convertir_unidades(tiempo)\n",
        "\n",
        " #conversor de moneda\n",
        "def convertir_monedas():\n",
        "    print(chr(27) + \"[1;31m\" + \"  Conversor de Moneda \")\n",
        "    convertir_unidades(monedas)\n",
        "\n",
        "\n",
        "def menu_de_conversiones():\n",
        "    while True:\n",
        "        print(chr(27) + \"[1;33m\" + \"  CONVERSORES DE: \" + \"\\033[0m\")\n",
        "        print(\"1. Monedas\")\n",
        "        print(\"2. Longitud\")\n",
        "        print(\"3. Masa\")\n",
        "        print(\"4. Almacenamiento\")\n",
        "        print(\"5. Tiempo\")\n",
        "        print(\"6. Volumen\")\n",
        "        print(\"7. Area\")\n",
        "        print(\"8. Salir\")\n",
        "\n",
        "        menu_principal = int(input(\"Ingresa el número de la categoría que deseas: \"))\n",
        "\n",
        "        if menu_principal == 1:\n",
        "            convertir_monedas()\n",
        "\n",
        "        elif menu_principal == 2:\n",
        "            conversor_longitud()\n",
        "\n",
        "        elif menu_principal == 3:\n",
        "            conversor_masa()\n",
        "\n",
        "        elif menu_principal == 4:\n",
        "            conversor_almacenamiento()\n",
        "\n",
        "        elif menu_principal == 5:\n",
        "           conversor_tiempo()\n",
        "\n",
        "        elif menu_principal == 6:\n",
        "           conversor_volumen()\n",
        "\n",
        "        elif menu_principal == 7:\n",
        "           conversor_area()\n",
        "\n",
        "        elif menu_principal == 8:\n",
        "            print(\"Saliendo...\")\n",
        "            break\n",
        "        else:\n",
        "            print(\"Opción no válida. Inténtelo nuevamente.\")\n",
        "\n",
        "if __name__ == \"__main__\":\n",
        "    menu_de_conversiones()"
      ]
    },
    {
      "cell_type": "markdown",
      "metadata": {
        "id": "MoJqyBb9SB85"
      },
      "source": [
        "---\n",
        "---\n",
        "#### **Realizar un conversor propio, donde especifique el valor de conversión**"
      ]
    },
    {
      "cell_type": "code",
      "execution_count": null,
      "metadata": {
        "id": "K1C-K6kQSHuJ"
      },
      "outputs": [],
      "source": [
        "def cajas_to_unidades(cajas):\n",
        "    return cajas * 25\n",
        "\n",
        "def unidades_to_cajas(unidades):\n",
        "    return unidades / 25\n",
        "\n",
        "def sacos_to_libras(sacos):\n",
        "    return sacos * 50\n",
        "\n",
        "def libras_to_sacos(libras):\n",
        "    return libras / 50\n",
        "\n",
        "def fardos_to_unidades(fardos):\n",
        "    return fardos * 5\n",
        "\n",
        "def unidades_to_fardos(unidades):\n",
        "    return unidades / 5"
      ]
    },
    {
      "cell_type": "code",
      "execution_count": null,
      "metadata": {
        "id": "giAAjS_pieP1"
      },
      "outputs": [],
      "source": [
        "def main():\n",
        "    while True:\n",
        "        print(chr(27)+\"[1;35m\"+\"   Menu de opciones a convertir: \")\n",
        "        print(\"                              \")\n",
        "        print(\"1. Convertir cajas a unidades\")\n",
        "        print(\"2. Convertir unidades a cajas\")\n",
        "        print(\"3. Convertir sacos a libras\")\n",
        "        print(\"4. Convertir libras a sacos\")\n",
        "        print(\"5. Convertir fardos a unidades\")\n",
        "        print(\"6. Convertir unidades a fardos\")\n",
        "        print(\"7. Salir\")\n",
        "\n",
        "        opcion = int(input(\"Seleccione una opción: \"))\n",
        "\n",
        "        if opcion == 1:\n",
        "            cajas = int(input(\"Ingrese el número de cajas: \"))\n",
        "            unidades_result = cajas_to_unidades(cajas)\n",
        "            print(f\"{cajas} caja(s) equivale(n) a {unidades_result} unidad(es)\")\n",
        "            print(\"                              \")\n",
        "        elif opcion == 2:\n",
        "            unidades = int(input(\"Ingrese el número de unidades: \"))\n",
        "            cajas_result = unidades_to_cajas(unidades)\n",
        "            print(f\"{unidades} unidad(es) equivale(n) a {cajas_result} caja(s)\")\n",
        "            print(\"                              \")\n",
        "        elif opcion == 3:\n",
        "            sacos = int(input(\"Ingrese el número de sacos: \"))\n",
        "            libras_result = sacos_to_libras(sacos)\n",
        "            print(f\"{sacos} saco(s) equivale(n) a {libras_result} libras\")\n",
        "            print(\"                              \")\n",
        "        elif opcion == 4:\n",
        "            libras = int(input(\"Ingrese el número de libras: \"))\n",
        "            sacos_result = libras_to_sacos(libras)\n",
        "            print(f\"{libras} libras equivale(n) a {sacos_result} saco(s)\")\n",
        "            print(\"                              \")\n",
        "        elif opcion == 5:\n",
        "            fardos = int(input(\"Ingrese el número de fardos: \"))\n",
        "            unidades_result = fardos_to_unidades(fardos)\n",
        "            print(f\"{fardos} fardo(s) equivale(n) a {unidades_result} unidad(es)\")\n",
        "            print(\"                              \")\n",
        "        elif opcion == 6:\n",
        "            unidades = int(input(\"Ingrese el número de unidades: \"))\n",
        "            fardos_result = unidades_to_fardos(unidades)\n",
        "            print(f\"{unidades} unidad(es) equivale(n) a {fardos_result} fardo(s)\")\n",
        "            print(\"                              \")\n",
        "        elif opcion == 7:\n",
        "            print(\"Saliendo del Conversor.\")\n",
        "            break\n",
        "        else:\n",
        "            print(\"Opción no válida. Por favor, Ingrese una opción válida.\")\n",
        "\n",
        "if __name__ == \"__main__\":\n",
        "    main()"
      ]
    },
    {
      "cell_type": "markdown",
      "metadata": {
        "id": "L4kI9-KRTGIw"
      },
      "source": [
        "Desarrolle el conversor de Área (Superficie) haciendo uso de los\n",
        "diccionarios y las funciones de usuario en Python que contenga las\n",
        "siguientes opciones: (20%)\n",
        "a. Pie Cuadrado\n",
        "b. Vara Cuadrada\n",
        "c. Yarda Cuadrada\n",
        "d. Metro Cuadrado\n",
        "e. Tareas\n",
        "f. Manzana\n",
        "g. Hectárea"
      ]
    },
    {
      "cell_type": "code",
      "execution_count": null,
      "metadata": {
        "colab": {
          "background_save": true,
          "base_uri": "https://localhost:8080/"
        },
        "id": "iDbNKvmUTK5f",
        "outputId": "66a94f1d-3e1e-4575-fa82-5108c9bdfd3e"
      },
      "outputs": [
        {
          "name": "stdout",
          "output_type": "stream",
          "text": [
            "\u001b[1;33m  CONVERSORES DE: \u001b[0m\n",
            "1. Pie cuadrado\n",
            "2. Vara cuadrada\n",
            "3. Yarda cuadrada\n",
            "4. metro cuadrado\n",
            "5. Tarea\n",
            "6. Manzana\n",
            "7. Hectareas\n",
            "8. Salir\n",
            "\u001b[1;31m  Conversor de pie cuadrado \n",
            "\u001b[92mUnidades Disponibles\u001b[0m\n",
            "vc: Vara Cuadrada\n",
            "yc: Yarda cuadrada\n",
            "mc: Metro Cuadrado\n",
            "t: Tareas\n",
            "m: Manzana\n",
            "h: Hectarea\n",
            "pc: Pie cuadrado\n"
          ]
        }
      ],
      "source": [
        "Piecuadrado = {\n",
        "  \"vc\": (0.111, \"Vara Cuadrada\"),\n",
        "  \"yc\": (0.111111, \"Yarda cuadrada\"),\n",
        "  \"mc\": (0.092903, \"Metro Cuadrado\"),\n",
        "  \"t\": (0.00014774656489, \"Tareas\"),\n",
        "  \"m\": (0.000013188960818, \"Manzana\"),\n",
        "  \"h\": (9.2903e-6, \"Hectarea\"),\n",
        "  \"pc\": (1, \"Pie cuadrado\")\n",
        "\n",
        "}\n",
        "varacuadrada = {\n",
        "\n",
        "  \"pc\": (7.52, \"Pie cuadrado\"),\n",
        "  \"vc\": (1, \"Vara cuadrada\"),\n",
        "  \"yc\": (0.9167, \"Yarda cuadrada\"),\n",
        "  \"mc\": (0.698896, \"Metros cuadrados\"),\n",
        "  \"t\": (36.62, \"Tareas\"),\n",
        "  \"m\": (0.698896 , \" m2 Manzana \"),\n",
        "  \"h\": (0.0000698, \"Hectarea\")\n",
        "\n",
        "}\n",
        "\n",
        "yardascuadrada = {\n",
        " \"pc\": (9, \"Pie cuadrado\"),\n",
        "  \"vc\": (1.185, \"Vara cuadrada\"),\n",
        "  \"yc\": (1, \"Yarda cuadrada\"),\n",
        "  \"mc\": (0.836127, \"Metros cuadrados\"),\n",
        "  \"t\": (36.62, \"Tareas\"),\n",
        "  \"m\": (0.921265, \"Manzana\"),\n",
        "  \"h\": (0.000084, \"Hectarea\")\n",
        "}\n",
        "metrocuadrado = {\n",
        "  \"pc\": (10.7639, \"Pie cuadrado\"),\n",
        "  \"vc\": (0,698896, \"Vara cuadrada\"),\n",
        "  \"yc\": (1.19599, \"Yarda cuadrada\"),\n",
        "  \"mc\": (1, \"Metros cuadrados\"),\n",
        "  \"t\": (0.00159033, \"m2 Tareas\"),\n",
        "  \"m\": (0.0001419647927314, \"Manzana\"),\n",
        "  \"h\": (1.000000, \"m2 Hectarea\")\n",
        "}\n",
        "tareas = {\n",
        " \"pc\": (6768.34687003, \"Pie cuadrado\"),\n",
        "  \"vc\": (387.44821, \"Vara cuadrada\"),\n",
        "  \"yc\": ( 752.03854111, \"Yarda cuadrada\"),\n",
        "  \"mc\": (628.86, \"Metros cuadrados\"),\n",
        "  \"t\": (1, \"Tareas\"),\n",
        "  \"m\": (0.921265, \"Manzana\"),\n",
        "  \"h\": (1.35, \"Hectarea\")\n",
        "}\n",
        "\n",
        "manzana = {\n",
        " \"pc\": (75.207, \"Pie cuadrado\"),\n",
        "  \"vc\": (10.000, \"Vara cuadrada\"),\n",
        "  \"yc\": (1,197, \"Yarda cuadrada\"),\n",
        "  \"mc\": (7000 , \" m2 Metros cuadrados\"),\n",
        "  \"t\": (16, \"Tareas\"),\n",
        "  \"m\": (0.921265, \"Manzana\"),\n",
        "  \"h\": (1.35, \"Hectarea\")\n",
        "}\n",
        "\n",
        "hectarea = {\n",
        " \"pc\": (1, \"Pie cuadrado\"),\n",
        "  \"vc\": (8.75, \"Vara cuadrada\"),\n",
        "\n",
        "  \"yc\": (7.86, \"Yarda cuadrada\"),\n",
        "  \"mc\": (24.72, \"Metros cuadrados\"),\n",
        "  \"t\": (36.62, \"Tareas\"),\n",
        "  \"m\": (1,43, \"Manzana\"),\n",
        "  \"h\": (1, \"Hectarea\")\n",
        "}\n",
        "\n",
        "def convertir_unidades(conversores):\n",
        "     while True:\n",
        "        print(\"\\033[92m\" + \"Unidades Disponibles\" + \"\\033[0m\")\n",
        "        for unidad in conversores:\n",
        "           print(unidad + \": \" + conversores[unidad][1])\n",
        "\n",
        "\n",
        "        convertir_de = \"\"\n",
        "        convertir_a = \"\"\n",
        "        while convertir_de not in conversores :\n",
        "            convertir_de = input(\"Convertir de:  \")\n",
        "            if convertir_de not in conversores:\n",
        "             print(\"unidad no válida. Inténtelo nuevamente.\")\n",
        "\n",
        "        while convertir_a not in conversores:\n",
        "            convertir_a = input(\"Convertir a: \").lower()\n",
        "            if convertir_a not in conversores:\n",
        "             print(\"unidad no válida. Inténtelo nuevamente.\")\n",
        "\n",
        "        while True:\n",
        "           cantidad_input = input(f\"Ingrese la cantidad a convertir {convertir_de}: \")\n",
        "           try:\n",
        "              cantidad = float(cantidad_input)\n",
        "              break\n",
        "           except ValueError:\n",
        "            print(\"Ingrese un valor numérico .\")\n",
        "        origen = conversores[convertir_de][0]\n",
        "        destino = conversores[convertir_a][0]\n",
        "\n",
        "        operacion = (destino / origen) * cantidad\n",
        "\n",
        "        if operacion <= 0:\n",
        "          print(\"La conversion no es posible. Introdusca una cantidad superir a 0.\")\n",
        "\n",
        "        elif (operacion) < 0.001 or (operacion) >= 100000000000:\n",
        "            print(f\"{cantidad:.2f} {convertir_de} es igual a {operacion:.2e} {convertir_a}. en notación científica\")\n",
        "        else:\n",
        "            print(f\"{cantidad:.2f} {convertir_de} es igual a {operacion:.3f} {convertir_a}.\")\n",
        "\n",
        "\n",
        "        salir = input(\"¿Deseas seguir en el conversor? (si) para continuar o cualquier otra tecla para salir\")\n",
        "        if salir.lower() != \"si\":\n",
        "         break\n",
        "\n",
        "#conversor de pie cuadrado\n",
        "def conversor_piecuadrado():\n",
        "   print(chr(27) + \"[1;31m\" + \"  Conversor de pie cuadrado \")\n",
        "   convertir_unidades(Piecuadrado)\n",
        "\n",
        "#Conversor de vara cuadrada\n",
        "def conversor_varacuadrada():\n",
        "  print(chr(27) + \"[1;31m\" + \"  Conversor de vara cuadrada \")\n",
        "  convertir_unidades(varacuadrada)\n",
        "\n",
        "#Conversor de yarda cuadrada\n",
        "\n",
        "def conversor_yardacuadrada():\n",
        "   print(chr(27) + \"[1;31m\" + \"  Conversor de yarda cuadrada \")\n",
        "   convertir_unidades(yardascuadrada)\n",
        "\n",
        "#Conversor de metro cuadrado\n",
        "def conversor_metrocuadrado():\n",
        "  print(chr(27) + \"[1;31m\" + \"  Conversor de metro cuadrado \")\n",
        "  convertir_unidades(metrocuadrado)\n",
        "\n",
        "#Conversor de tarea\n",
        "def conversor_tarea():\n",
        "  print(chr(27) + \"[1;31m\" + \"  Conversor de tarea \")\n",
        "  convertir_unidades(tareas)\n",
        "\n",
        "#Conversor de manzana\n",
        "def conversor_manzana():\n",
        "  print(chr(27) + \"[1;31m\" + \"  Conversor de manzana \")\n",
        "  convertir_unidades(manzana)\n",
        "\n",
        " #conversor de hectarea\n",
        "def convertir_hectarea():\n",
        "    print(chr(27) + \"[1;31m\" + \"  Conversor de hectarea \")\n",
        "    convertir_unidades(hectarea)\n",
        "\n",
        "\n",
        "def menu_de_conversiones():\n",
        "    while True:\n",
        "        print(chr(27) + \"[1;33m\" + \"  CONVERSORES DE: \" + \"\\033[0m\")\n",
        "        print(\"1. Pie cuadrado\")\n",
        "        print(\"2. Vara cuadrada\")\n",
        "        print(\"3. Yarda cuadrada\")\n",
        "        print(\"4. metro cuadrado\")\n",
        "        print(\"5. Tarea\")\n",
        "        print(\"6. Manzana\")\n",
        "        print(\"7. Hectareas\")\n",
        "        print(\"8. Salir\")\n",
        "\n",
        "        menu_principal = int(input(\"Ingresa el número de la categoría que deseas: \"))\n",
        "\n",
        "        if menu_principal == 1:\n",
        "            conversor_piecuadrado()\n",
        "\n",
        "        elif menu_principal == 2:\n",
        "            conversor_varacuadrada()\n",
        "\n",
        "        elif menu_principal == 3:\n",
        "            conversor_yardacuadrada()\n",
        "\n",
        "        elif menu_principal == 4:\n",
        "            conversor_metrocuadrado()\n",
        "\n",
        "        elif menu_principal == 5:\n",
        "           conversor_tarea()\n",
        "\n",
        "        elif menu_principal == 6:\n",
        "           conversor_manzana()\n",
        "\n",
        "        elif menu_principal == 7:\n",
        "           convertir_hectarea()\n",
        "\n",
        "        elif menu_principal == 8:\n",
        "            print(\"Saliendo...\")\n",
        "            break\n",
        "        else:\n",
        "            print(\"Opción no válida. Inténtelo nuevamente.\")\n",
        "\n",
        "if __name__ == \"__main__\":\n",
        "    menu_de_conversiones()"
      ]
    }
  ],
  "metadata": {
    "colab": {
      "provenance": [],
      "authorship_tag": "ABX9TyNxR/Lsys6QomZfTHmtek60",
      "include_colab_link": true
    },
    "kernelspec": {
      "display_name": "Python 3",
      "name": "python3"
    },
    "language_info": {
      "name": "python"
    }
  },
  "nbformat": 4,
  "nbformat_minor": 0
}